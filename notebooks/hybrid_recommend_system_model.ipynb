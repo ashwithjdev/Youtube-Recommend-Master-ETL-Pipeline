{
 "cells": [
  {
   "cell_type": "code",
   "execution_count": 1,
   "metadata": {},
   "outputs": [],
   "source": [
    "import pandas as pd\n",
    "from sklearn.feature_extraction.text import TfidfVectorizer\n",
    "from sklearn.metrics.pairwise import linear_kernel\n",
    "from surprise import Dataset, Reader, SVD"
   ]
  },
  {
   "cell_type": "code",
   "execution_count": 2,
   "metadata": {},
   "outputs": [
    {
     "data": {
      "text/html": [
       "<div>\n",
       "<style scoped>\n",
       "    .dataframe tbody tr th:only-of-type {\n",
       "        vertical-align: middle;\n",
       "    }\n",
       "\n",
       "    .dataframe tbody tr th {\n",
       "        vertical-align: top;\n",
       "    }\n",
       "\n",
       "    .dataframe thead th {\n",
       "        text-align: right;\n",
       "    }\n",
       "</style>\n",
       "<table border=\"1\" class=\"dataframe\">\n",
       "  <thead>\n",
       "    <tr style=\"text-align: right;\">\n",
       "      <th></th>\n",
       "      <th>video_id</th>\n",
       "      <th>title</th>\n",
       "      <th>publishedAt</th>\n",
       "      <th>channelId</th>\n",
       "      <th>channelTitle</th>\n",
       "      <th>categoryId</th>\n",
       "      <th>trending_date</th>\n",
       "      <th>tags</th>\n",
       "      <th>view_count</th>\n",
       "      <th>likes</th>\n",
       "      <th>dislikes</th>\n",
       "      <th>comment_count</th>\n",
       "      <th>thumbnail_link</th>\n",
       "      <th>comments_disabled</th>\n",
       "      <th>ratings_disabled</th>\n",
       "    </tr>\n",
       "  </thead>\n",
       "  <tbody>\n",
       "    <tr>\n",
       "      <th>0</th>\n",
       "      <td>KJi2qg5F-9E</td>\n",
       "      <td>Bonez MC - HOLLYWOOD (Snippet)</td>\n",
       "      <td>2020-08-11T18:00:03Z</td>\n",
       "      <td>UCGh8tmH9x9njaI2mXfh2fyg</td>\n",
       "      <td>CrhymeTV</td>\n",
       "      <td>10</td>\n",
       "      <td>2020-08-12T00:00:00Z</td>\n",
       "      <td>187|187 Strassenbande|BONEZ MC|RAF Camora|MAXW...</td>\n",
       "      <td>573902</td>\n",
       "      <td>69319</td>\n",
       "      <td>970</td>\n",
       "      <td>3311</td>\n",
       "      <td>https://i.ytimg.com/vi/KJi2qg5F-9E/default.jpg</td>\n",
       "      <td>False</td>\n",
       "      <td>False</td>\n",
       "    </tr>\n",
       "    <tr>\n",
       "      <th>1</th>\n",
       "      <td>K0vYnOn7wZI</td>\n",
       "      <td>Nik hat heftige Probleme in Köln! 😱😫 #1925 | K...</td>\n",
       "      <td>2020-08-11T17:00:09Z</td>\n",
       "      <td>UCnrvUg5MJWPDSrv_voT7AqA</td>\n",
       "      <td>Köln 50667</td>\n",
       "      <td>24</td>\n",
       "      <td>2020-08-12T00:00:00Z</td>\n",
       "      <td>Köln|50667|RTL2|RTL|Serie|k50667|ganze folge|t...</td>\n",
       "      <td>381375</td>\n",
       "      <td>13637</td>\n",
       "      <td>435</td>\n",
       "      <td>866</td>\n",
       "      <td>https://i.ytimg.com/vi/K0vYnOn7wZI/default.jpg</td>\n",
       "      <td>False</td>\n",
       "      <td>False</td>\n",
       "    </tr>\n",
       "    <tr>\n",
       "      <th>2</th>\n",
       "      <td>2bbn9b79LRc</td>\n",
       "      <td>Camper Tour 2020 - ROADTRIP durch Österreich |...</td>\n",
       "      <td>2020-08-11T18:00:00Z</td>\n",
       "      <td>UCBt8RY61tvanrhkzeZdNICw</td>\n",
       "      <td>AnaJohnson</td>\n",
       "      <td>24</td>\n",
       "      <td>2020-08-12T00:00:00Z</td>\n",
       "      <td>camper tour|camper tour deutsch|camper tour de...</td>\n",
       "      <td>142296</td>\n",
       "      <td>9480</td>\n",
       "      <td>144</td>\n",
       "      <td>364</td>\n",
       "      <td>https://i.ytimg.com/vi/2bbn9b79LRc/default.jpg</td>\n",
       "      <td>False</td>\n",
       "      <td>False</td>\n",
       "    </tr>\n",
       "    <tr>\n",
       "      <th>3</th>\n",
       "      <td>Zv-3qNnAMaM</td>\n",
       "      <td>Ich TESTE SHEIN BIKINIS (try on haul) - UNMÖGL...</td>\n",
       "      <td>2020-08-12T09:00:08Z</td>\n",
       "      <td>UCccDoH6QpRCjjcMgl5f88wA</td>\n",
       "      <td>Einfach Marci</td>\n",
       "      <td>24</td>\n",
       "      <td>2020-08-12T00:00:00Z</td>\n",
       "      <td>[None]</td>\n",
       "      <td>55640</td>\n",
       "      <td>3420</td>\n",
       "      <td>124</td>\n",
       "      <td>229</td>\n",
       "      <td>https://i.ytimg.com/vi/Zv-3qNnAMaM/default.jpg</td>\n",
       "      <td>False</td>\n",
       "      <td>False</td>\n",
       "    </tr>\n",
       "    <tr>\n",
       "      <th>4</th>\n",
       "      <td>7clgQLneouU</td>\n",
       "      <td>STATEMENT zu meinem BAN! 😒 | Bald vielleicht P...</td>\n",
       "      <td>2020-08-11T12:00:02Z</td>\n",
       "      <td>UC8E8eD7mOcnMazJT4laKbFQ</td>\n",
       "      <td>Domo</td>\n",
       "      <td>24</td>\n",
       "      <td>2020-08-12T00:00:00Z</td>\n",
       "      <td>Papaplatte|papaplatte twitch best of|papaplatt...</td>\n",
       "      <td>233899</td>\n",
       "      <td>25251</td>\n",
       "      <td>375</td>\n",
       "      <td>1051</td>\n",
       "      <td>https://i.ytimg.com/vi/7clgQLneouU/default.jpg</td>\n",
       "      <td>False</td>\n",
       "      <td>False</td>\n",
       "    </tr>\n",
       "  </tbody>\n",
       "</table>\n",
       "</div>"
      ],
      "text/plain": [
       "      video_id                                              title  \\\n",
       "0  KJi2qg5F-9E                     Bonez MC - HOLLYWOOD (Snippet)   \n",
       "1  K0vYnOn7wZI  Nik hat heftige Probleme in Köln! 😱😫 #1925 | K...   \n",
       "2  2bbn9b79LRc  Camper Tour 2020 - ROADTRIP durch Österreich |...   \n",
       "3  Zv-3qNnAMaM  Ich TESTE SHEIN BIKINIS (try on haul) - UNMÖGL...   \n",
       "4  7clgQLneouU  STATEMENT zu meinem BAN! 😒 | Bald vielleicht P...   \n",
       "\n",
       "            publishedAt                 channelId   channelTitle  categoryId  \\\n",
       "0  2020-08-11T18:00:03Z  UCGh8tmH9x9njaI2mXfh2fyg       CrhymeTV          10   \n",
       "1  2020-08-11T17:00:09Z  UCnrvUg5MJWPDSrv_voT7AqA     Köln 50667          24   \n",
       "2  2020-08-11T18:00:00Z  UCBt8RY61tvanrhkzeZdNICw     AnaJohnson          24   \n",
       "3  2020-08-12T09:00:08Z  UCccDoH6QpRCjjcMgl5f88wA  Einfach Marci          24   \n",
       "4  2020-08-11T12:00:02Z  UC8E8eD7mOcnMazJT4laKbFQ           Domo          24   \n",
       "\n",
       "          trending_date                                               tags  \\\n",
       "0  2020-08-12T00:00:00Z  187|187 Strassenbande|BONEZ MC|RAF Camora|MAXW...   \n",
       "1  2020-08-12T00:00:00Z  Köln|50667|RTL2|RTL|Serie|k50667|ganze folge|t...   \n",
       "2  2020-08-12T00:00:00Z  camper tour|camper tour deutsch|camper tour de...   \n",
       "3  2020-08-12T00:00:00Z                                             [None]   \n",
       "4  2020-08-12T00:00:00Z  Papaplatte|papaplatte twitch best of|papaplatt...   \n",
       "\n",
       "   view_count  likes  dislikes  comment_count  \\\n",
       "0      573902  69319       970           3311   \n",
       "1      381375  13637       435            866   \n",
       "2      142296   9480       144            364   \n",
       "3       55640   3420       124            229   \n",
       "4      233899  25251       375           1051   \n",
       "\n",
       "                                   thumbnail_link  comments_disabled  \\\n",
       "0  https://i.ytimg.com/vi/KJi2qg5F-9E/default.jpg              False   \n",
       "1  https://i.ytimg.com/vi/K0vYnOn7wZI/default.jpg              False   \n",
       "2  https://i.ytimg.com/vi/2bbn9b79LRc/default.jpg              False   \n",
       "3  https://i.ytimg.com/vi/Zv-3qNnAMaM/default.jpg              False   \n",
       "4  https://i.ytimg.com/vi/7clgQLneouU/default.jpg              False   \n",
       "\n",
       "   ratings_disabled  \n",
       "0             False  \n",
       "1             False  \n",
       "2             False  \n",
       "3             False  \n",
       "4             False  "
      ]
     },
     "execution_count": 2,
     "metadata": {},
     "output_type": "execute_result"
    }
   ],
   "source": [
    "df = pd.read_csv('/home/longnguyen/Documents/Coding/FDE-Course-2024/Project-Day/Youtube-ETL-Pipeline/dataset/youTube_trending_video/DE_youtube_trending_data.csv')\n",
    "df.head()"
   ]
  },
  {
   "cell_type": "code",
   "execution_count": 3,
   "metadata": {},
   "outputs": [
    {
     "name": "stdout",
     "output_type": "stream",
     "text": [
      "<class 'pandas.core.frame.DataFrame'>\n",
      "RangeIndex: 268736 entries, 0 to 268735\n",
      "Data columns (total 15 columns):\n",
      " #   Column             Non-Null Count   Dtype \n",
      "---  ------             --------------   ----- \n",
      " 0   video_id           268736 non-null  object\n",
      " 1   title              268736 non-null  object\n",
      " 2   publishedAt        268736 non-null  object\n",
      " 3   channelId          268736 non-null  object\n",
      " 4   channelTitle       268736 non-null  object\n",
      " 5   categoryId         268736 non-null  int64 \n",
      " 6   trending_date      268736 non-null  object\n",
      " 7   tags               268736 non-null  object\n",
      " 8   view_count         268736 non-null  int64 \n",
      " 9   likes              268736 non-null  int64 \n",
      " 10  dislikes           268736 non-null  int64 \n",
      " 11  comment_count      268736 non-null  int64 \n",
      " 12  thumbnail_link     268736 non-null  object\n",
      " 13  comments_disabled  268736 non-null  bool  \n",
      " 14  ratings_disabled   268736 non-null  bool  \n",
      "dtypes: bool(2), int64(5), object(8)\n",
      "memory usage: 27.2+ MB\n"
     ]
    }
   ],
   "source": [
    "df.info()"
   ]
  },
  {
   "cell_type": "code",
   "execution_count": 4,
   "metadata": {},
   "outputs": [],
   "source": [
    "content = df.drop_duplicates(subset=['video_id'],keep='last')"
   ]
  },
  {
   "cell_type": "code",
   "execution_count": 5,
   "metadata": {},
   "outputs": [
    {
     "data": {
      "text/plain": [
       "(55476, 15)"
      ]
     },
     "execution_count": 5,
     "metadata": {},
     "output_type": "execute_result"
    }
   ],
   "source": [
    "content.shape"
   ]
  },
  {
   "cell_type": "code",
   "execution_count": 6,
   "metadata": {},
   "outputs": [],
   "source": [
    "def fill_mi(v):\n",
    "    if v == 1: return 'Film & Animation'\n",
    "    elif v == 2: return 'Autos & Vehicles'\n",
    "    elif v == 10: return 'Music'\n",
    "    elif v == 15: return 'Pets & Animals'\n",
    "    elif v == 17: return 'Sports'\n",
    "    elif v == 19: return 'Travel & Events'\n",
    "    elif v == 20: return 'Gaming'\n",
    "    elif v == 22: return 'People & Blogs'\n",
    "    elif v == 23: return 'Comedy'\n",
    "    elif v == 24: return 'Entertainment'\n",
    "    elif v == 25: return 'News & Politics'\n",
    "    elif v == 26: return 'Howto & Style'\n",
    "    elif v == 27: return 'Education'\n",
    "    elif v == 28: return 'Science & Technology'\n",
    "    else: return 'Nonprofits & Activism'\n",
    "        \n",
    "        "
   ]
  },
  {
   "cell_type": "code",
   "execution_count": 7,
   "metadata": {},
   "outputs": [
    {
     "name": "stderr",
     "output_type": "stream",
     "text": [
      "/tmp/ipykernel_57859/3480152712.py:1: SettingWithCopyWarning: \n",
      "A value is trying to be set on a copy of a slice from a DataFrame.\n",
      "Try using .loc[row_indexer,col_indexer] = value instead\n",
      "\n",
      "See the caveats in the documentation: https://pandas.pydata.org/pandas-docs/stable/user_guide/indexing.html#returning-a-view-versus-a-copy\n",
      "  content['categoryname'] = content['categoryId'].apply(fill_mi)\n"
     ]
    }
   ],
   "source": [
    "content['categoryname'] = content['categoryId'].apply(fill_mi)"
   ]
  },
  {
   "cell_type": "code",
   "execution_count": 8,
   "metadata": {},
   "outputs": [
    {
     "data": {
      "text/plain": [
       "55476"
      ]
     },
     "execution_count": 8,
     "metadata": {},
     "output_type": "execute_result"
    }
   ],
   "source": [
    "len(content['categoryname'])"
   ]
  },
  {
   "cell_type": "code",
   "execution_count": 9,
   "metadata": {},
   "outputs": [
    {
     "name": "stderr",
     "output_type": "stream",
     "text": [
      "/tmp/ipykernel_57859/1319113376.py:1: SettingWithCopyWarning: \n",
      "A value is trying to be set on a copy of a slice from a DataFrame.\n",
      "Try using .loc[row_indexer,col_indexer] = value instead\n",
      "\n",
      "See the caveats in the documentation: https://pandas.pydata.org/pandas-docs/stable/user_guide/indexing.html#returning-a-view-versus-a-copy\n",
      "  content['content'] = content[['title', 'channelId', 'channelTitle', 'categoryname']].apply(lambda row: \" \".join(row.dropna().astype(str)), axis=1)\n"
     ]
    }
   ],
   "source": [
    "content['content'] = content[['title', 'channelId', 'channelTitle', 'categoryname']].apply(lambda row: \" \".join(row.dropna().astype(str)), axis=1)\n",
    "tfidf_vectorizer = TfidfVectorizer()\n",
    "content_matrix = tfidf_vectorizer.fit_transform(content['content'])"
   ]
  },
  {
   "cell_type": "code",
   "execution_count": 10,
   "metadata": {},
   "outputs": [
    {
     "ename": "MemoryError",
     "evalue": "Unable to allocate 22.9 GiB for an array with shape (55476, 55476) and data type float64",
     "output_type": "error",
     "traceback": [
      "\u001b[0;31m---------------------------------------------------------------------------\u001b[0m",
      "\u001b[0;31mMemoryError\u001b[0m                               Traceback (most recent call last)",
      "Cell \u001b[0;32mIn[10], line 1\u001b[0m\n\u001b[0;32m----> 1\u001b[0m content_similarity \u001b[38;5;241m=\u001b[39m \u001b[43mlinear_kernel\u001b[49m\u001b[43m(\u001b[49m\u001b[43mcontent_matrix\u001b[49m\u001b[43m,\u001b[49m\u001b[43m \u001b[49m\u001b[43mcontent_matrix\u001b[49m\u001b[43m)\u001b[49m\n",
      "File \u001b[0;32m~/Documents/Coding/FDE-Course-2024/Project-Day/Youtube-ETL-Pipeline/.etl-pipeline/lib/python3.11/site-packages/sklearn/utils/_param_validation.py:213\u001b[0m, in \u001b[0;36mvalidate_params.<locals>.decorator.<locals>.wrapper\u001b[0;34m(*args, **kwargs)\u001b[0m\n\u001b[1;32m    207\u001b[0m \u001b[38;5;28;01mtry\u001b[39;00m:\n\u001b[1;32m    208\u001b[0m     \u001b[38;5;28;01mwith\u001b[39;00m config_context(\n\u001b[1;32m    209\u001b[0m         skip_parameter_validation\u001b[38;5;241m=\u001b[39m(\n\u001b[1;32m    210\u001b[0m             prefer_skip_nested_validation \u001b[38;5;129;01mor\u001b[39;00m global_skip_validation\n\u001b[1;32m    211\u001b[0m         )\n\u001b[1;32m    212\u001b[0m     ):\n\u001b[0;32m--> 213\u001b[0m         \u001b[38;5;28;01mreturn\u001b[39;00m \u001b[43mfunc\u001b[49m\u001b[43m(\u001b[49m\u001b[38;5;241;43m*\u001b[39;49m\u001b[43margs\u001b[49m\u001b[43m,\u001b[49m\u001b[43m \u001b[49m\u001b[38;5;241;43m*\u001b[39;49m\u001b[38;5;241;43m*\u001b[39;49m\u001b[43mkwargs\u001b[49m\u001b[43m)\u001b[49m\n\u001b[1;32m    214\u001b[0m \u001b[38;5;28;01mexcept\u001b[39;00m InvalidParameterError \u001b[38;5;28;01mas\u001b[39;00m e:\n\u001b[1;32m    215\u001b[0m     \u001b[38;5;66;03m# When the function is just a wrapper around an estimator, we allow\u001b[39;00m\n\u001b[1;32m    216\u001b[0m     \u001b[38;5;66;03m# the function to delegate validation to the estimator, but we replace\u001b[39;00m\n\u001b[1;32m    217\u001b[0m     \u001b[38;5;66;03m# the name of the estimator by the name of the function in the error\u001b[39;00m\n\u001b[1;32m    218\u001b[0m     \u001b[38;5;66;03m# message to avoid confusion.\u001b[39;00m\n\u001b[1;32m    219\u001b[0m     msg \u001b[38;5;241m=\u001b[39m re\u001b[38;5;241m.\u001b[39msub(\n\u001b[1;32m    220\u001b[0m         \u001b[38;5;124mr\u001b[39m\u001b[38;5;124m\"\u001b[39m\u001b[38;5;124mparameter of \u001b[39m\u001b[38;5;124m\\\u001b[39m\u001b[38;5;124mw+ must be\u001b[39m\u001b[38;5;124m\"\u001b[39m,\n\u001b[1;32m    221\u001b[0m         \u001b[38;5;124mf\u001b[39m\u001b[38;5;124m\"\u001b[39m\u001b[38;5;124mparameter of \u001b[39m\u001b[38;5;132;01m{\u001b[39;00mfunc\u001b[38;5;241m.\u001b[39m\u001b[38;5;18m__qualname__\u001b[39m\u001b[38;5;132;01m}\u001b[39;00m\u001b[38;5;124m must be\u001b[39m\u001b[38;5;124m\"\u001b[39m,\n\u001b[1;32m    222\u001b[0m         \u001b[38;5;28mstr\u001b[39m(e),\n\u001b[1;32m    223\u001b[0m     )\n",
      "File \u001b[0;32m~/Documents/Coding/FDE-Course-2024/Project-Day/Youtube-ETL-Pipeline/.etl-pipeline/lib/python3.11/site-packages/sklearn/metrics/pairwise.py:1375\u001b[0m, in \u001b[0;36mlinear_kernel\u001b[0;34m(X, Y, dense_output)\u001b[0m\n\u001b[1;32m   1341\u001b[0m \u001b[38;5;250m\u001b[39m\u001b[38;5;124;03m\"\"\"\u001b[39;00m\n\u001b[1;32m   1342\u001b[0m \u001b[38;5;124;03mCompute the linear kernel between X and Y.\u001b[39;00m\n\u001b[1;32m   1343\u001b[0m \n\u001b[0;32m   (...)\u001b[0m\n\u001b[1;32m   1372\u001b[0m \u001b[38;5;124;03m       [1., 2.]])\u001b[39;00m\n\u001b[1;32m   1373\u001b[0m \u001b[38;5;124;03m\"\"\"\u001b[39;00m\n\u001b[1;32m   1374\u001b[0m X, Y \u001b[38;5;241m=\u001b[39m check_pairwise_arrays(X, Y)\n\u001b[0;32m-> 1375\u001b[0m \u001b[38;5;28;01mreturn\u001b[39;00m \u001b[43msafe_sparse_dot\u001b[49m\u001b[43m(\u001b[49m\u001b[43mX\u001b[49m\u001b[43m,\u001b[49m\u001b[43m \u001b[49m\u001b[43mY\u001b[49m\u001b[38;5;241;43m.\u001b[39;49m\u001b[43mT\u001b[49m\u001b[43m,\u001b[49m\u001b[43m \u001b[49m\u001b[43mdense_output\u001b[49m\u001b[38;5;241;43m=\u001b[39;49m\u001b[43mdense_output\u001b[49m\u001b[43m)\u001b[49m\n",
      "File \u001b[0;32m~/Documents/Coding/FDE-Course-2024/Project-Day/Youtube-ETL-Pipeline/.etl-pipeline/lib/python3.11/site-packages/sklearn/utils/extmath.py:216\u001b[0m, in \u001b[0;36msafe_sparse_dot\u001b[0;34m(a, b, dense_output)\u001b[0m\n\u001b[1;32m    208\u001b[0m     ret \u001b[38;5;241m=\u001b[39m a \u001b[38;5;241m@\u001b[39m b\n\u001b[1;32m    210\u001b[0m \u001b[38;5;28;01mif\u001b[39;00m (\n\u001b[1;32m    211\u001b[0m     sparse\u001b[38;5;241m.\u001b[39missparse(a)\n\u001b[1;32m    212\u001b[0m     \u001b[38;5;129;01mand\u001b[39;00m sparse\u001b[38;5;241m.\u001b[39missparse(b)\n\u001b[1;32m    213\u001b[0m     \u001b[38;5;129;01mand\u001b[39;00m dense_output\n\u001b[1;32m    214\u001b[0m     \u001b[38;5;129;01mand\u001b[39;00m \u001b[38;5;28mhasattr\u001b[39m(ret, \u001b[38;5;124m\"\u001b[39m\u001b[38;5;124mtoarray\u001b[39m\u001b[38;5;124m\"\u001b[39m)\n\u001b[1;32m    215\u001b[0m ):\n\u001b[0;32m--> 216\u001b[0m     \u001b[38;5;28;01mreturn\u001b[39;00m \u001b[43mret\u001b[49m\u001b[38;5;241;43m.\u001b[39;49m\u001b[43mtoarray\u001b[49m\u001b[43m(\u001b[49m\u001b[43m)\u001b[49m\n\u001b[1;32m    217\u001b[0m \u001b[38;5;28;01mreturn\u001b[39;00m ret\n",
      "File \u001b[0;32m~/Documents/Coding/FDE-Course-2024/Project-Day/Youtube-ETL-Pipeline/.etl-pipeline/lib/python3.11/site-packages/scipy/sparse/_compressed.py:1106\u001b[0m, in \u001b[0;36m_cs_matrix.toarray\u001b[0;34m(self, order, out)\u001b[0m\n\u001b[1;32m   1104\u001b[0m \u001b[38;5;28;01mif\u001b[39;00m out \u001b[38;5;129;01mis\u001b[39;00m \u001b[38;5;28;01mNone\u001b[39;00m \u001b[38;5;129;01mand\u001b[39;00m order \u001b[38;5;129;01mis\u001b[39;00m \u001b[38;5;28;01mNone\u001b[39;00m:\n\u001b[1;32m   1105\u001b[0m     order \u001b[38;5;241m=\u001b[39m \u001b[38;5;28mself\u001b[39m\u001b[38;5;241m.\u001b[39m_swap(\u001b[38;5;124m'\u001b[39m\u001b[38;5;124mcf\u001b[39m\u001b[38;5;124m'\u001b[39m)[\u001b[38;5;241m0\u001b[39m]\n\u001b[0;32m-> 1106\u001b[0m out \u001b[38;5;241m=\u001b[39m \u001b[38;5;28;43mself\u001b[39;49m\u001b[38;5;241;43m.\u001b[39;49m\u001b[43m_process_toarray_args\u001b[49m\u001b[43m(\u001b[49m\u001b[43morder\u001b[49m\u001b[43m,\u001b[49m\u001b[43m \u001b[49m\u001b[43mout\u001b[49m\u001b[43m)\u001b[49m\n\u001b[1;32m   1107\u001b[0m \u001b[38;5;28;01mif\u001b[39;00m \u001b[38;5;129;01mnot\u001b[39;00m (out\u001b[38;5;241m.\u001b[39mflags\u001b[38;5;241m.\u001b[39mc_contiguous \u001b[38;5;129;01mor\u001b[39;00m out\u001b[38;5;241m.\u001b[39mflags\u001b[38;5;241m.\u001b[39mf_contiguous):\n\u001b[1;32m   1108\u001b[0m     \u001b[38;5;28;01mraise\u001b[39;00m \u001b[38;5;167;01mValueError\u001b[39;00m(\u001b[38;5;124m'\u001b[39m\u001b[38;5;124mOutput array must be C or F contiguous\u001b[39m\u001b[38;5;124m'\u001b[39m)\n",
      "File \u001b[0;32m~/Documents/Coding/FDE-Course-2024/Project-Day/Youtube-ETL-Pipeline/.etl-pipeline/lib/python3.11/site-packages/scipy/sparse/_base.py:1327\u001b[0m, in \u001b[0;36m_spbase._process_toarray_args\u001b[0;34m(self, order, out)\u001b[0m\n\u001b[1;32m   1325\u001b[0m     \u001b[38;5;28;01mreturn\u001b[39;00m out\n\u001b[1;32m   1326\u001b[0m \u001b[38;5;28;01melse\u001b[39;00m:\n\u001b[0;32m-> 1327\u001b[0m     \u001b[38;5;28;01mreturn\u001b[39;00m \u001b[43mnp\u001b[49m\u001b[38;5;241;43m.\u001b[39;49m\u001b[43mzeros\u001b[49m\u001b[43m(\u001b[49m\u001b[38;5;28;43mself\u001b[39;49m\u001b[38;5;241;43m.\u001b[39;49m\u001b[43mshape\u001b[49m\u001b[43m,\u001b[49m\u001b[43m \u001b[49m\u001b[43mdtype\u001b[49m\u001b[38;5;241;43m=\u001b[39;49m\u001b[38;5;28;43mself\u001b[39;49m\u001b[38;5;241;43m.\u001b[39;49m\u001b[43mdtype\u001b[49m\u001b[43m,\u001b[49m\u001b[43m \u001b[49m\u001b[43morder\u001b[49m\u001b[38;5;241;43m=\u001b[39;49m\u001b[43morder\u001b[49m\u001b[43m)\u001b[49m\n",
      "\u001b[0;31mMemoryError\u001b[0m: Unable to allocate 22.9 GiB for an array with shape (55476, 55476) and data type float64"
     ]
    },
    {
     "ename": "",
     "evalue": "",
     "output_type": "error",
     "traceback": [
      "\u001b[1;31mThe Kernel crashed while executing code in the current cell or a previous cell. \n",
      "\u001b[1;31mPlease review the code in the cell(s) to identify a possible cause of the failure. \n",
      "\u001b[1;31mClick <a href='https://aka.ms/vscodeJupyterKernelCrash'>here</a> for more info. \n",
      "\u001b[1;31mView Jupyter <a href='command:jupyter.viewOutput'>log</a> for further details."
     ]
    }
   ],
   "source": [
    "content_similarity = linear_kernel(content_matrix, content_matrix)"
   ]
  },
  {
   "cell_type": "code",
   "execution_count": null,
   "metadata": {},
   "outputs": [],
   "source": [
    "reader = Reader(rating_scale=(1, 5))\n",
    "data = Dataset.load_from_df(content[['video_id', 'view', 'like', 'dislike', 'comment', 'categoryid']], reader)\n"
   ]
  }
 ],
 "metadata": {
  "kernelspec": {
   "display_name": ".etl-pipeline",
   "language": "python",
   "name": "python3"
  },
  "language_info": {
   "codemirror_mode": {
    "name": "ipython",
    "version": 3
   },
   "file_extension": ".py",
   "mimetype": "text/x-python",
   "name": "python",
   "nbconvert_exporter": "python",
   "pygments_lexer": "ipython3",
   "version": "3.11.6"
  }
 },
 "nbformat": 4,
 "nbformat_minor": 2
}
